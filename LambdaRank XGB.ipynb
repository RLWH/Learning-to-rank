{
 "cells": [
  {
   "cell_type": "markdown",
   "metadata": {},
   "source": [
    "# LambdaRank by XGBoost model"
   ]
  },
  {
   "cell_type": "code",
   "execution_count": 53,
   "metadata": {},
   "outputs": [],
   "source": [
    "import xgboost as xgb\n",
    "\n",
    "from sklearn.datasets import load_svmlight_file"
   ]
  },
  {
   "cell_type": "markdown",
   "metadata": {},
   "source": [
    "### Transform data to group data"
   ]
  },
  {
   "cell_type": "code",
   "execution_count": null,
   "metadata": {},
   "outputs": [],
   "source": [
    "def save_data(group_data,output_feature,output_group):\n",
    "    if len(group_data) == 0:\n",
    "        return\n",
    "\n",
    "    output_group.write(str(len(group_data))+\"\\n\")\n",
    "    for data in group_data:\n",
    "        # only include nonzero features\n",
    "        feats = [ p for p in data[2:] if float(p.split(':')[1]) != 0.0 ]        \n",
    "        output_feature.write(data[0] + \" \" + \" \".join(feats) + \"\\n\")"
   ]
  },
  {
   "cell_type": "code",
   "execution_count": null,
   "metadata": {},
   "outputs": [],
   "source": [
    "fi = open(\"./data/MSLR-WEB10K/Fold1/train.txt\")\n",
    "output_feature = open(\"./data/MSLR-WEB10K/Fold1/train_features.group\",\"w\")\n",
    "output_group = open(\"./data/MSLR-WEB10K/Fold1/train.group\",\"w\")\n",
    "\n",
    "group_data = []\n",
    "group = \"\"\n",
    "for line in fi:\n",
    "    if not line:\n",
    "        break\n",
    "    if \"#\" in line:\n",
    "        line = line[:line.index(\"#\")]\n",
    "    splits = line.strip().split(\" \")\n",
    "    if splits[1] != group:\n",
    "        save_data(group_data,output_feature,output_group)\n",
    "        group_data = []\n",
    "    group = splits[1]\n",
    "    group_data.append(splits)\n",
    "\n",
    "save_data(group_data,output_feature,output_group)\n",
    "\n",
    "fi.close()\n",
    "output_feature.close()\n",
    "output_group.close()"
   ]
  },
  {
   "cell_type": "code",
   "execution_count": null,
   "metadata": {},
   "outputs": [],
   "source": [
    "fi = open(\"./data/MSLR-WEB10K/Fold1/vali.txt\")\n",
    "output_feature = open(\"./data/MSLR-WEB10K/Fold1/vali_features.group\",\"w\")\n",
    "output_group = open(\"./data/MSLR-WEB10K/Fold1/vali.group\",\"w\")\n",
    "\n",
    "group_data = []\n",
    "group = \"\"\n",
    "for line in fi:\n",
    "    if not line:\n",
    "        break\n",
    "    if \"#\" in line:\n",
    "        line = line[:line.index(\"#\")]\n",
    "    splits = line.strip().split(\" \")\n",
    "    if splits[1] != group:\n",
    "        save_data(group_data,output_feature,output_group)\n",
    "        group_data = []\n",
    "    group = splits[1]\n",
    "    group_data.append(splits)\n",
    "\n",
    "save_data(group_data,output_feature,output_group)\n",
    "\n",
    "fi.close()\n",
    "output_feature.close()\n",
    "output_group.close()"
   ]
  },
  {
   "cell_type": "markdown",
   "metadata": {},
   "source": [
    "### Generate dataset"
   ]
  },
  {
   "cell_type": "code",
   "execution_count": 58,
   "metadata": {},
   "outputs": [],
   "source": [
    "x_train, y_train = load_svmlight_file(\"./data/MSLR-WEB10K/Fold1/train.txt\")\n",
    "x_valid, y_valid = load_svmlight_file(\"./data/MSLR-WEB10K/Fold1/vali.txt\")"
   ]
  },
  {
   "cell_type": "code",
   "execution_count": 65,
   "metadata": {},
   "outputs": [],
   "source": [
    "train_dmatrix = xgb.DMatrix(x_train, y_train)\n",
    "valid_dmatrix = xgb.DMatrix(x_valid, y_valid)"
   ]
  },
  {
   "cell_type": "code",
   "execution_count": 66,
   "metadata": {},
   "outputs": [],
   "source": [
    "group_train = []\n",
    "with open(\"./data/MSLR-WEB10K/Fold1/train.group\", \"r\") as f:\n",
    "    data = f.readlines()\n",
    "    for line in data:\n",
    "        group_train.append(int(line.split(\"\\n\")[0]))"
   ]
  },
  {
   "cell_type": "code",
   "execution_count": 68,
   "metadata": {},
   "outputs": [],
   "source": [
    "group_valid = []\n",
    "with open(\"./data/MSLR-WEB10K/Fold1/vali.group\", \"r\") as f:\n",
    "    data = f.readlines()\n",
    "    for line in data:\n",
    "        group_valid.append(int(line.split(\"\\n\")[0]))"
   ]
  },
  {
   "cell_type": "code",
   "execution_count": 69,
   "metadata": {},
   "outputs": [],
   "source": [
    "train_dmatrix.set_group(group_train)"
   ]
  },
  {
   "cell_type": "code",
   "execution_count": 70,
   "metadata": {},
   "outputs": [],
   "source": [
    "valid_dmatrix.set_group(group_valid)"
   ]
  },
  {
   "cell_type": "code",
   "execution_count": 73,
   "metadata": {},
   "outputs": [
    {
     "name": "stdout",
     "output_type": "stream",
     "text": [
      "[13:59:38] src/tree/updater_prune.cc:74: tree pruning end, 1 roots, 126 extra nodes, 0 pruned nodes, max_depth=6\n",
      "[0]\tvalidation-ndcg@5:0.389448\n",
      "[13:59:47] src/tree/updater_prune.cc:74: tree pruning end, 1 roots, 126 extra nodes, 0 pruned nodes, max_depth=6\n",
      "[1]\tvalidation-ndcg@5:0.393292\n",
      "[13:59:56] src/tree/updater_prune.cc:74: tree pruning end, 1 roots, 126 extra nodes, 0 pruned nodes, max_depth=6\n",
      "[2]\tvalidation-ndcg@5:0.400664\n",
      "[14:00:06] src/tree/updater_prune.cc:74: tree pruning end, 1 roots, 126 extra nodes, 0 pruned nodes, max_depth=6\n",
      "[3]\tvalidation-ndcg@5:0.405078\n"
     ]
    }
   ],
   "source": [
    "params = {'objective': 'rank:pairwise', \n",
    "          'eta': 0.1, \n",
    "          'gamma': 1.0,\n",
    "          'min_child_weight': 0.1, \n",
    "          'max_depth': 6,\n",
    "          'eval_metric': 'ndcg@5'}\n",
    "xgb_model = xgb.train(params, train_dmatrix, num_boost_round=4,\n",
    "                           evals=[(valid_dmatrix, 'validation')])"
   ]
  },
  {
   "cell_type": "code",
   "execution_count": null,
   "metadata": {},
   "outputs": [],
   "source": []
  }
 ],
 "metadata": {
  "kernelspec": {
   "display_name": "env",
   "language": "python",
   "name": "env"
  },
  "language_info": {
   "codemirror_mode": {
    "name": "ipython",
    "version": 3
   },
   "file_extension": ".py",
   "mimetype": "text/x-python",
   "name": "python",
   "nbconvert_exporter": "python",
   "pygments_lexer": "ipython3",
   "version": "3.6.5"
  }
 },
 "nbformat": 4,
 "nbformat_minor": 2
}
